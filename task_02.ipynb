{
 "cells": [
  {
   "cell_type": "markdown",
   "metadata": {},
   "source": [
    "# Úloha 2\n",
    "####    Data o několika stovkách klientů obsahují dva sloupce: pohlaví a věk. Máme hypotézu, že podíl žen mezi klienty se statisticky významně mění s věkem.\n",
    "####    a) Navrhněte způsob, jak graficky znázornit data tak, abychom si udělali dobrou a korektní představu, zda může hypotéza platit.\n",
    "####    b) Navrhněte vhodnou statistickou metodu, která by hypotézu na datech ověřila. Můžete uvést i více metod."
   ]
  },
  {
   "cell_type": "markdown",
   "metadata": {},
   "source": [
    "### Import packages"
   ]
  },
  {
   "cell_type": "code",
   "execution_count": 2,
   "metadata": {},
   "outputs": [],
   "source": [
    "import pandas as pd\n",
    "import numpy as np\n",
    "import matplotlib.pyplot as plt\n",
    "import seaborn as sns\n",
    "import random\n",
    "import os"
   ]
  },
  {
   "cell_type": "markdown",
   "metadata": {},
   "source": [
    "###    a) Navrhněte způsob, jak graficky znázornit data tak, abychom si udělali dobrou a korektní představu, zda může hypotéza platit."
   ]
  },
  {
   "cell_type": "markdown",
   "metadata": {},
   "source": [
    "### Tvorba vlastního datasetu"
   ]
  },
  {
   "cell_type": "code",
   "execution_count": 4,
   "metadata": {},
   "outputs": [],
   "source": [
    "def generate_dataset():\n",
    "    \n",
    "    initial_probability = 0.4  # Initial F/M ratio\n",
    "    exponential_factor = 1.01\n",
    "    data = []\n",
    "\n",
    "    \n",
    "    for age in range(18, 80):               # one age 18\n",
    "        sample = random.randint(90, 100)      # sampling random big group of clients 90-100 to add a litle bit of noise \n",
    "        for i in range(sample):\n",
    "            if random.random() < initial_probability:   # initial probability 0,4 = 4 from 10 will be assigned as Female \n",
    "                data.append((\"F\", age))                 \n",
    "            else:\n",
    "                data.append((\"M\", age))\n",
    "        initial_probability *= exponential_factor                        # once one age run is done, we will modulate probability \n",
    "                \n",
    "    dataset = pd.DataFrame(data)\n",
    "    \n",
    "\n",
    "    if not os.path.exists('./data'):\n",
    "        os.makedirs('./data')\n",
    "    dataset.columns = ['gender', 'age']\n",
    "    dataset.to_csv(\"./data/data.csv\", index=False)\n",
    "\n",
    "\n",
    "generate_dataset()"
   ]
  },
  {
   "cell_type": "markdown",
   "metadata": {},
   "source": [
    "#### Načtení dat a investigace"
   ]
  },
  {
   "cell_type": "code",
   "execution_count": 5,
   "metadata": {},
   "outputs": [
    {
     "data": {
      "text/html": [
       "<div>\n",
       "<style scoped>\n",
       "    .dataframe tbody tr th:only-of-type {\n",
       "        vertical-align: middle;\n",
       "    }\n",
       "\n",
       "    .dataframe tbody tr th {\n",
       "        vertical-align: top;\n",
       "    }\n",
       "\n",
       "    .dataframe thead th {\n",
       "        text-align: right;\n",
       "    }\n",
       "</style>\n",
       "<table border=\"1\" class=\"dataframe\">\n",
       "  <thead>\n",
       "    <tr style=\"text-align: right;\">\n",
       "      <th></th>\n",
       "      <th>gender</th>\n",
       "      <th>age</th>\n",
       "    </tr>\n",
       "  </thead>\n",
       "  <tbody>\n",
       "    <tr>\n",
       "      <th>0</th>\n",
       "      <td>M</td>\n",
       "      <td>18</td>\n",
       "    </tr>\n",
       "    <tr>\n",
       "      <th>1</th>\n",
       "      <td>M</td>\n",
       "      <td>18</td>\n",
       "    </tr>\n",
       "    <tr>\n",
       "      <th>2</th>\n",
       "      <td>M</td>\n",
       "      <td>18</td>\n",
       "    </tr>\n",
       "    <tr>\n",
       "      <th>3</th>\n",
       "      <td>F</td>\n",
       "      <td>18</td>\n",
       "    </tr>\n",
       "    <tr>\n",
       "      <th>4</th>\n",
       "      <td>F</td>\n",
       "      <td>18</td>\n",
       "    </tr>\n",
       "  </tbody>\n",
       "</table>\n",
       "</div>"
      ],
      "text/plain": [
       "  gender  age\n",
       "0      M   18\n",
       "1      M   18\n",
       "2      M   18\n",
       "3      F   18\n",
       "4      F   18"
      ]
     },
     "execution_count": 5,
     "metadata": {},
     "output_type": "execute_result"
    }
   ],
   "source": [
    "# data import  \n",
    "data = pd.read_csv(\"./data/data.csv\")\n",
    "data.head()"
   ]
  },
  {
   "cell_type": "markdown",
   "metadata": {},
   "source": [
    "#### Uložení a Vizualizace datasetu"
   ]
  },
  {
   "cell_type": "code",
   "execution_count": 6,
   "metadata": {},
   "outputs": [],
   "source": [
    "# 1) Data preprocessing\n",
    "grouped_data = data.groupby(\"age\").value_counts()\n",
    "grouped_data_dataframe = pd.DataFrame(grouped_data)\n",
    "grouped_data_dataframe.to_csv(\"./data/preprocessed_dataset.csv\")"
   ]
  },
  {
   "cell_type": "code",
   "execution_count": 7,
   "metadata": {},
   "outputs": [
    {
     "data": {
      "image/png": "[encoded data removed]",
      "text/plain": [
       "<Figure size 1000x500 with 1 Axes>"
      ]
     },
     "metadata": {},
     "output_type": "display_data"
    }
   ],
   "source": [
    "# 2) Data load\n",
    "data_to_plot = pd.read_csv(\"./data/preprocessed_dataset.csv\")\n",
    "\n",
    "data_to_plot[data_to_plot[\"gender\"] == \"M\"][\"count\"]\n",
    "fig, ax = plt.subplots(figsize=(10,5))\n",
    "ax.scatter(x=data_to_plot[data_to_plot[\"gender\"] == \"M\"][\"age\"],\n",
    "           y=data_to_plot[data_to_plot[\"gender\"] == \"M\"][\"count\"],\n",
    "           color=\"cyan\", \n",
    "           label=\"male\")\n",
    "ax.scatter(x=data_to_plot[data_to_plot[\"gender\"] == \"F\"][\"age\"],\n",
    "           y=data_to_plot[data_to_plot[\"gender\"] == \"F\"][\"count\"],\n",
    "           color=\"pink\", \n",
    "           label=\"female\")\n",
    "ax.legend(title=\"Gender\")\n",
    "ax.set(title=\"Clients by gender\", \n",
    "       xlabel=\"Age\",\n",
    "       ylabel=\"Number of clients\")\n",
    "ax.grid(True)\n",
    "ax.set_xlim(30, 80)\n",
    "plt.show()"
   ]
  },
  {
   "cell_type": "markdown",
   "metadata": {},
   "source": [
    "### b) Navrhněte vhodnou statistickou metodu, která by hypotézu na datech ověřila. Můžete uvést i více metod."
   ]
  },
  {
   "cell_type": "markdown",
   "metadata": {},
   "source": [
    "#### Metoda - Pearson Correlation Coefficient"
   ]
  },
  {
   "cell_type": "code",
   "execution_count": null,
   "metadata": {},
   "outputs": [],
   "source": [
    "# Načtení dat\n",
    "data = pd.read_csv(\"./data/preprocessed_dataset.csv\")\n",
    "data['gender'] = data['gender'].replace({'M': 1, 'F': 0})\n",
    "data"
   ]
  },
  {
   "cell_type": "code",
   "execution_count": 64,
   "metadata": {},
   "outputs": [
    {
     "data": {
      "text/html": [
       "<div>\n",
       "<style scoped>\n",
       "    .dataframe tbody tr th:only-of-type {\n",
       "        vertical-align: middle;\n",
       "    }\n",
       "\n",
       "    .dataframe tbody tr th {\n",
       "        vertical-align: top;\n",
       "    }\n",
       "\n",
       "    .dataframe thead th {\n",
       "        text-align: right;\n",
       "    }\n",
       "</style>\n",
       "<table border=\"1\" class=\"dataframe\">\n",
       "  <thead>\n",
       "    <tr style=\"text-align: right;\">\n",
       "      <th>age</th>\n",
       "      <th>gender</th>\n",
       "      <th>18</th>\n",
       "      <th>19</th>\n",
       "      <th>20</th>\n",
       "      <th>21</th>\n",
       "      <th>22</th>\n",
       "      <th>23</th>\n",
       "      <th>24</th>\n",
       "      <th>25</th>\n",
       "      <th>26</th>\n",
       "      <th>...</th>\n",
       "      <th>70</th>\n",
       "      <th>71</th>\n",
       "      <th>72</th>\n",
       "      <th>73</th>\n",
       "      <th>74</th>\n",
       "      <th>75</th>\n",
       "      <th>76</th>\n",
       "      <th>77</th>\n",
       "      <th>78</th>\n",
       "      <th>79</th>\n",
       "    </tr>\n",
       "  </thead>\n",
       "  <tbody>\n",
       "    <tr>\n",
       "      <th>0</th>\n",
       "      <td>0</td>\n",
       "      <td>43</td>\n",
       "      <td>39</td>\n",
       "      <td>38</td>\n",
       "      <td>46</td>\n",
       "      <td>44</td>\n",
       "      <td>41</td>\n",
       "      <td>37</td>\n",
       "      <td>45</td>\n",
       "      <td>40</td>\n",
       "      <td>...</td>\n",
       "      <td>64</td>\n",
       "      <td>65</td>\n",
       "      <td>65</td>\n",
       "      <td>73</td>\n",
       "      <td>65</td>\n",
       "      <td>65</td>\n",
       "      <td>76</td>\n",
       "      <td>68</td>\n",
       "      <td>73</td>\n",
       "      <td>70</td>\n",
       "    </tr>\n",
       "    <tr>\n",
       "      <th>1</th>\n",
       "      <td>1</td>\n",
       "      <td>47</td>\n",
       "      <td>52</td>\n",
       "      <td>58</td>\n",
       "      <td>54</td>\n",
       "      <td>47</td>\n",
       "      <td>54</td>\n",
       "      <td>54</td>\n",
       "      <td>55</td>\n",
       "      <td>58</td>\n",
       "      <td>...</td>\n",
       "      <td>30</td>\n",
       "      <td>31</td>\n",
       "      <td>25</td>\n",
       "      <td>23</td>\n",
       "      <td>27</td>\n",
       "      <td>31</td>\n",
       "      <td>14</td>\n",
       "      <td>26</td>\n",
       "      <td>24</td>\n",
       "      <td>24</td>\n",
       "    </tr>\n",
       "  </tbody>\n",
       "</table>\n",
       "<p>2 rows × 63 columns</p>\n",
       "</div>"
      ],
      "text/plain": [
       "age  gender  18  19  20  21  22  23  24  25  26  ...  70  71  72  73  74  75  \\\n",
       "0         0  43  39  38  46  44  41  37  45  40  ...  64  65  65  73  65  65   \n",
       "1         1  47  52  58  54  47  54  54  55  58  ...  30  31  25  23  27  31   \n",
       "\n",
       "age  76  77  78  79  \n",
       "0    76  68  73  70  \n",
       "1    14  26  24  24  \n",
       "\n",
       "[2 rows x 63 columns]"
      ]
     },
     "execution_count": 64,
     "metadata": {},
     "output_type": "execute_result"
    }
   ],
   "source": [
    "# Datový preprocesing za použití .pivot_table() metody\n",
    "pivot_data = data.pivot_table(index=[\"gender\"], columns='age', values='count', aggfunc='sum').reset_index()\n",
    "pivot_data"
   ]
  },
  {
   "cell_type": "code",
   "execution_count": 65,
   "metadata": {},
   "outputs": [
    {
     "name": "stdout",
     "output_type": "stream",
     "text": [
      "Length of gender_male: 63\n",
      "Length of gender_female: 63\n"
     ]
    }
   ],
   "source": [
    "import pandas as pd\n",
    "from scipy import stats\n",
    "\n",
    "# Rozdělení dat do 2  1D arrays\n",
    "pivot_data = data.pivot_table(index=[\"gender\"], columns='age', values='count', aggfunc='sum').reset_index()\n",
    "gender_male = np.array(pivot_data[pivot_data[\"gender\"] == 1])\n",
    "gender_female = np.array(pivot_data[pivot_data[\"gender\"] == 0])\n",
    "gender_female = gender_female.flatten()\n",
    "gender_male = gender_male.flatten()\n",
    "\n",
    "# Ověření rozměru arrays\n",
    "print(f\"Length of gender_male: {len(gender_male)}\")\n",
    "print(f\"Length of gender_female: {len(gender_female)}\")\n"
   ]
  },
  {
   "cell_type": "code",
   "execution_count": 75,
   "metadata": {},
   "outputs": [
    {
     "name": "stdout",
     "output_type": "stream",
     "text": [
      "Final corelation parameter of the M/F ratio dataset: -0.4745182792762987 with p-value: 8.528805318236764e-05\n"
     ]
    }
   ],
   "source": [
    "# Naplnění dat do Pearson korelační funkce\n",
    "statistic_corelation = stats.pearsonr(gender_male, gender_female)\n",
    "print(f\"Final corelation parameter of the M/F ratio dataset: {statistic_corelation.statistic} with p-value: {statistic_corelation.pvalue}\")"
   ]
  }
 ],
 "metadata": {
  "kernelspec": {
   "display_name": "venv",
   "language": "python",
   "name": "python3"
  },
  "language_info": {
   "codemirror_mode": {
    "name": "ipython",
    "version": 3
   },
   "file_extension": ".py",
   "mimetype": "text/x-python",
   "name": "python",
   "nbconvert_exporter": "python",
   "pygments_lexer": "ipython3",
   "version": "3.12.4"
  }
 },
 "nbformat": 4,
 "nbformat_minor": 2
}
