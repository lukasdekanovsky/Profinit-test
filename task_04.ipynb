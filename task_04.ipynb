{
 "cells": [
  {
   "cell_type": "markdown",
   "metadata": {},
   "source": [
    "# Úloha 4\n",
    "#### Máme dvě jednorozměrná pole A, B, jejichž prvky jsou indexované od 1. Kdy (při jakých vlastnostech či vzájemném vztahu polí) následující pseudokód vypíše hodnotu True?\n",
    "#### na ::= počet prvků A\n",
    "#### nb := počet prvků B\n",
    "#### i := 1\n",
    "#### j := 1\n",
    "#### k := 0\n",
    "\n",
    "#### dokud (i <= na ) a (k <= 1) a (j <= nb)\n",
    "####    jestliže (A [i] rovno B[j] [ zvyš hodnotu i o       1 , jinak zvyš hodnotu k o 1\n",
    "#### zvyš hodnotu j o 1\n",
    "#### konec cyklu\n",
    "#### vypiš hodnotu podmínky ((i > na) a (j > nb) a (k rovno 1))\n",
    "#### konec"
   ]
  },
  {
   "cell_type": "markdown",
   "metadata": {},
   "source": [
    "### A) Vymodelování situace"
   ]
  },
  {
   "cell_type": "code",
   "execution_count": 3,
   "metadata": {},
   "outputs": [],
   "source": [
    "import pandas as pd\n",
    "import numpy as np\n",
    "import matplotlib.pyplot as plt\n",
    "import random"
   ]
  },
  {
   "cell_type": "code",
   "execution_count": 19,
   "metadata": {},
   "outputs": [],
   "source": [
    "# Datové zdroje\n",
    "data_a = [1,2,3,4,5, 8, 9, 10, 11, 12, 42, 43, 44, 45, 46, 47, 48, 49, 50]\n",
    "data_b = [x*random.randint(1, 10) for x in data_a]\n",
    "# --------------------------------------------------------------------------------\n",
    "# Tvorba DataFrame \n",
    "field_A = pd.DataFrame(data_a, index=range(1, len(data_a)+1), columns=['field_A'])\n",
    "field_B = pd.DataFrame(data_b, index=range(1, len(data_b)+1), columns=['field_B'])\n",
    "\n",
    "# Počet prvků v poli\n",
    "number_of_elements_A = len(field_A)\n",
    "number_of_elements_B = len(field_B)\n",
    "\n",
    "# Konstanty\n",
    "i = 1\n",
    "j = 1\n",
    "k = 0\n"
   ]
  },
  {
   "cell_type": "code",
   "execution_count": 30,
   "metadata": {},
   "outputs": [
    {
     "name": "stdout",
     "output_type": "stream",
     "text": [
      "Hodnota podmínky False\n"
     ]
    }
   ],
   "source": [
    "# Ligický cyklus\n",
    "while i <= number_of_elements_A and j <= number_of_elements_B:\n",
    "    if field_A.iloc[i-1]['field_A'] == field_B.iloc[j-1]['field_B']:\n",
    "        i += 1\n",
    "    else:\n",
    "        k += 1\n",
    "    j += 1\n",
    "\n",
    "if ((i > number_of_elements_A) and (j > number_of_elements_B) and (k == 0)):\n",
    "    condition = True\n",
    "else:\n",
    "    condition = False\n",
    "print(f\"Hodnota podmínky {condition}\")"
   ]
  },
  {
   "cell_type": "code",
   "execution_count": 38,
   "metadata": {},
   "outputs": [
    {
     "name": "stdout",
     "output_type": "stream",
     "text": [
      "Hodnota podmínky False\n"
     ]
    }
   ],
   "source": [
    "# Pro jaké pole platí podmínka True? \n",
    "\n",
    "def check_condition(field_A, field_B, number_of_elements_A, number_of_elements_B, i, j, k):\n",
    "    while i <= number_of_elements_A and j <= number_of_elements_B:\n",
    "        if field_A.iloc[i-1]['field_A'] == field_B.iloc[j-1]['field_B']:  # i-1 aby index začínal na 0 \n",
    "            i += 1\n",
    "        else:\n",
    "            k += 1\n",
    "        j += 1\n",
    "\n",
    "    if ((i > number_of_elements_A) and (j > number_of_elements_B) and (k == 0)):\n",
    "        condition = True\n",
    "    else:\n",
    "        condition = False\n",
    "    print(f\"Hodnota podmínky {condition}\")\n",
    "\n",
    "def main():\n",
    "\n",
    "    # Datové zdroje\n",
    "    #data_a = [1,2,3,4,5, 8, 9, 10, 11, 12, 42, 43, 44, 45, 46, 47, 48, 49, 50]\n",
    "    #data_b = [x*random.randint(1, 10) for x in data_a]\n",
    "    # A) SPLNÉNO ZA PODMÍNKY - sady jsou stejně dlouhé a identické \n",
    "    data_a = [1,2,3,4,5, 8, 9, 10, 11, 12, 42, 43, 44, 45, 46, 47, 48, 49, 50]\n",
    "    data_b = [1,2,3,4,5, 8, 9, 10, 11, 12, 42, 43, 44, 45, 46, 47, 48, 49, 50]\n",
    "# --------------------------------------------------------------------------------\n",
    "    # Tvorba DataFrame \n",
    "    field_A = pd.DataFrame(data_a, index=range(1, len(data_a)+1), columns=['field_A'])\n",
    "    field_B = pd.DataFrame(data_b, index=range(1, len(data_b)+1), columns=['field_B'])\n",
    "\n",
    "    # Počet prvků v poli\n",
    "    number_of_elements_A = len(field_A)\n",
    "    number_of_elements_B = len(field_B)\n",
    "\n",
    "    # Konstanty\n",
    "    i = 1\n",
    "    j = 1\n",
    "    k = 0\n",
    "\n",
    "    check_condition(field_A, field_B, number_of_elements_A, number_of_elements_B, i, j, k)\n",
    "\n",
    "if __name__ == \"__main__\":\n",
    "    main()"
   ]
  }
 ],
 "metadata": {
  "kernelspec": {
   "display_name": "venv",
   "language": "python",
   "name": "python3"
  },
  "language_info": {
   "codemirror_mode": {
    "name": "ipython",
    "version": 3
   },
   "file_extension": ".py",
   "mimetype": "text/x-python",
   "name": "python",
   "nbconvert_exporter": "python",
   "pygments_lexer": "ipython3",
   "version": "3.12.4"
  }
 },
 "nbformat": 4,
 "nbformat_minor": 2
}
